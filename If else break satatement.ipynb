{
 "cells": [
  {
   "cell_type": "code",
   "execution_count": 3,
   "id": "2c2ebe36",
   "metadata": {},
   "outputs": [
    {
     "name": "stdout",
     "output_type": "stream",
     "text": [
      "0\n",
      "2\n",
      "4\n",
      "6\n",
      "8\n",
      "[0, 4, 16, 36, 64]\n"
     ]
    }
   ],
   "source": [
    "L = [] \n",
    "for i in range(0, 10, 2):\n",
    "    print(i)\n",
    "    L.append(i**2) \n",
    "print(L)"
   ]
  },
  {
   "cell_type": "code",
   "execution_count": 17,
   "id": "0f5227eb",
   "metadata": {},
   "outputs": [
    {
     "name": "stdout",
     "output_type": "stream",
     "text": [
      "Chery\n",
      "3.4\n",
      "Apple\n",
      "Loop is Successfully Done!\n",
      "Out of loop\n"
     ]
    }
   ],
   "source": [
    "S = {\"Apple\", 3.4 , \"Chery\"} \n",
    "i = 1\n",
    "for x in S:\n",
    "    print(x)\n",
    "    i += 1\n",
    "    if i == 3:\n",
    "        break\n",
    "    else:\n",
    "        pass\n",
    "else:\n",
    "    print(\"Loop is Successfully Done!\")\n",
    "print(\"Out of loop\")"
   ]
  },
  {
   "cell_type": "code",
   "execution_count": 56,
   "id": "7b41c9cd",
   "metadata": {},
   "outputs": [
    {
     "name": "stdout",
     "output_type": "stream",
     "text": [
      "A 10\n",
      "B -100\n"
     ]
    }
   ],
   "source": [
    "D = {\"A\":10, \"B\":-100, \"C\":\"ABC\"}\n",
    "i=-1\n",
    "for x in D:\n",
    "    i += 1\n",
    "    if i == 2:\n",
    "        break\n",
    "    else:\n",
    "        pass\n",
    "    print(x, D[x]) "
   ]
  },
  {
   "cell_type": "code",
   "execution_count": 62,
   "id": "22e34c73",
   "metadata": {},
   "outputs": [
    {
     "ename": "SyntaxError",
     "evalue": "invalid syntax (421949646.py, line 3)",
     "output_type": "error",
     "traceback": [
      "\u001b[1;36m  File \u001b[1;32m\"C:\\Users\\88019\\AppData\\Local\\Temp\\ipykernel_9632\\421949646.py\"\u001b[1;36m, line \u001b[1;32m3\u001b[0m\n\u001b[1;33m    if (Num == 0) || (Num > 0) || (num < 0):\u001b[0m\n\u001b[1;37m                   ^\u001b[0m\n\u001b[1;31mSyntaxError\u001b[0m\u001b[1;31m:\u001b[0m invalid syntax\n"
     ]
    }
   ],
   "source": [
    "Num = int(input(\"Please Enter A Random Number\")) \n",
    "\n",
    "if (Num == 0) || (Num > 0) || (num < 0):\n",
    "    if Num < 0 :\n",
    "        print(\" Number is Negiative\")\n",
    "    elif Num > 0:\n",
    "        print(\"Number is Positive\") \n",
    "    else:\n",
    "        print(\"Number Ngegiative\")  \n",
    "else:\n",
    "    pass\n",
    "    \n",
    "print(Num)"
   ]
  },
  {
   "cell_type": "code",
   "execution_count": 63,
   "id": "75daa671",
   "metadata": {},
   "outputs": [
    {
     "name": "stdout",
     "output_type": "stream",
     "text": [
      "Please Enter number between ten and two6\n",
      "Too high\n",
      "Please try again5\n",
      "Your guess is right!\n",
      "5\n"
     ]
    }
   ],
   "source": [
    "# Guss Game \n",
    "import random\n",
    "n = random.randrange(1,10)\n",
    "guss = int(input(\"Please Enter number between ten and two\"))\n",
    "\n",
    "while n != guss:\n",
    "    if guss < n:\n",
    "        print(\"Too low\")\n",
    "        guss = int(input(\"Please Try Aging\"))\n",
    "    elif guss > n:\n",
    "        print(\"Too high\")\n",
    "        guss = int(input(\"Please try again\"))\n",
    "    else:\n",
    "        pass\n",
    "print(\"Your guess is right!\")\n",
    "\n",
    "print(n)"
   ]
  },
  {
   "cell_type": "code",
   "execution_count": null,
   "id": "6dad6129",
   "metadata": {},
   "outputs": [],
   "source": []
  }
 ],
 "metadata": {
  "kernelspec": {
   "display_name": "Python 3 (ipykernel)",
   "language": "python",
   "name": "python3"
  },
  "language_info": {
   "codemirror_mode": {
    "name": "ipython",
    "version": 3
   },
   "file_extension": ".py",
   "mimetype": "text/x-python",
   "name": "python",
   "nbconvert_exporter": "python",
   "pygments_lexer": "ipython3",
   "version": "3.9.13"
  }
 },
 "nbformat": 4,
 "nbformat_minor": 5
}
